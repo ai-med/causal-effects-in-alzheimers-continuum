{
 "cells": [
  {
   "cell_type": "markdown",
   "metadata": {},
   "source": [
    "This file is part of Estimation of Causal Effects in the Alzheimer's Continuum (Causal-AD).\n",
    "\n",
    "Causal-AD is free software: you can redistribute it and/or modify ",
    "it under the terms of the GNU General Public License as published by ",
    "the Free Software Foundation, either version 3 of the License, or ",
    "(at your option) any later version.\n",
    "\n",
    "Causal-AD is distributed in the hope that it will be useful, ",
    "but WITHOUT ANY WARRANTY; without even the implied warranty of ",
    "MERCHANTABILITY or FITNESS FOR A PARTICULAR PURPOSE.  See the ",
    "GNU General Public License for more details.\n",
    "\n",
    "You should have received a copy of the GNU General Public License ",
    "along with Causal-AD. If not, see <https://www.gnu.org/licenses/>.\n",
    "\n",
    "# Step 1: Estimate Substitute Confounders"
   ]
  },
  {
   "cell_type": "code",
   "execution_count": 1,
   "metadata": {},
   "outputs": [],
   "source": [
    "from pathlib import Path\n",
    "import numpy as np\n",
    "import pandas as pd\n",
    "\n",
    "from causalad.adni_experiments import (\n",
    "    load_adni_data,\n",
    "    apply_volume_transforms,\n",
    "    get_bpmf_deconfounder,\n",
    "    get_ppca_deconfounder,\n",
    "    get_regressed_out_volumes,\n",
    ")"
   ]
  },
  {
   "cell_type": "code",
   "execution_count": 2,
   "metadata": {},
   "outputs": [
    {
     "name": "stderr",
     "output_type": "stream",
     "text": [
      "INFO:causalad.adni_experiments:\n",
      "12-16               923\n",
      "more_than_16        905\n",
      "less_or_equal_12    325\n",
      "Name: EDU-ATTAIN, dtype: int64\n",
      "\n",
      "INFO:causalad.utils:89 outliers removed\n",
      "INFO:causalad.adni_experiments:Dropping 11 with missing or zero ADAS13\n",
      "\n",
      "INFO:causalad.adni_experiments:\n",
      "A+/T+/N+    398\n",
      "A+/T+/N-    268\n",
      "A+/T-/N-     99\n",
      "Name: ATN_status, dtype: int64\n",
      "\n",
      "INFO:causalad.adni_experiments:\n",
      "APGEN2  2     3    4\n",
      "APGEN1              \n",
      "2       6   172   49\n",
      "3       5  1171  837\n",
      "4       2    18  227\n",
      "\n"
     ]
    },
    {
     "name": "stdout",
     "output_type": "stream",
     "text": [
      "(711, 22) (711, 12)\n"
     ]
    }
   ],
   "source": [
    "data_vols, data_extra, outcome = load_adni_data(remove_outliers=True)\n",
    "print(data_vols.shape, data_extra.shape)"
   ]
  },
  {
   "cell_type": "markdown",
   "metadata": {},
   "source": [
    "## Apply Data Transformations"
   ]
  },
  {
   "cell_type": "code",
   "execution_count": 3,
   "metadata": {},
   "outputs": [],
   "source": [
    "data_vols_t = apply_volume_transforms(data_vols)"
   ]
  },
  {
   "cell_type": "code",
   "execution_count": 4,
   "metadata": {},
   "outputs": [],
   "source": [
    "pd.concat((outcome, data_extra, data_vols_t), axis=1).to_csv(\n",
    "    \"data/adni-transformed.csv\"\n",
    ")"
   ]
  },
  {
   "cell_type": "markdown",
   "metadata": {},
   "source": [
    "## Fit Regress-out Model\n",
    "\n",
    "This may take a while."
   ]
  },
  {
   "cell_type": "code",
   "execution_count": 5,
   "metadata": {},
   "outputs": [],
   "source": [
    "seed = 1501\n",
    "latent_dim = 6\n",
    "base_dir = Path(f\"data/outputs/adni/dim{latent_dim}\")\n",
    "\n",
    "if not base_dir.exists():\n",
    "    base_dir.mkdir(parents=True)"
   ]
  },
  {
   "cell_type": "code",
   "execution_count": 6,
   "metadata": {},
   "outputs": [],
   "source": [
    "resid_regress_out = get_regressed_out_volumes(data_vols_t, data_extra, random_state=seed)"
   ]
  },
  {
   "cell_type": "code",
   "execution_count": 7,
   "metadata": {},
   "outputs": [
    {
     "name": "stdout",
     "output_type": "stream",
     "text": [
      "/notebooks/data/outputs/adni/dim6/adni_aug_regressout.csv\n"
     ]
    }
   ],
   "source": [
    "output_regress_out = pd.concat((outcome, data_extra, resid_regress_out), axis=1)\n",
    "file_regress_out = base_dir / \"adni_aug_regressout.csv\"\n",
    "output_regress_out.to_csv(file_regress_out)\n",
    "\n",
    "print(file_regress_out.resolve())"
   ]
  },
  {
   "cell_type": "markdown",
   "metadata": {},
   "source": [
    "## Fit PPCA Model\n",
    "\n",
    "This may take a while."
   ]
  },
  {
   "cell_type": "code",
   "execution_count": 8,
   "metadata": {},
   "outputs": [
    {
     "name": "stderr",
     "output_type": "stream",
     "text": [
      "WARNING:pystan:Automatic Differentiation Variational Inference (ADVI) is an EXPERIMENTAL ALGORITHM.\n",
      "WARNING:pystan:ADVI samples may be found on the filesystem in the file `/tmp/tmph6p461z0/output.csv`\n",
      "INFO:causalad.adni_experiments:Overall p-value: 0.766112\n"
     ]
    }
   ],
   "source": [
    "deconf_ppca, resid_ppca, pval_ppca = get_ppca_deconfounder(\n",
    "    data_vols_t, data_extra, latent_dim=latent_dim, random_state=seed\n",
    ")"
   ]
  },
  {
   "cell_type": "code",
   "execution_count": 9,
   "metadata": {},
   "outputs": [
    {
     "name": "stdout",
     "output_type": "stream",
     "text": [
      "/notebooks/data/outputs/adni/dim6/adni_aug_PPCA.csv\n"
     ]
    }
   ],
   "source": [
    "output_ppca = pd.concat((outcome, data_extra, deconf_ppca, resid_ppca), axis=1)\n",
    "file_ppca = base_dir / \"adni_aug_PPCA.csv\"\n",
    "output_ppca.to_csv(file_ppca)\n",
    "\n",
    "print(file_ppca.resolve())"
   ]
  },
  {
   "cell_type": "markdown",
   "metadata": {},
   "source": [
    "## Fit BPMF Model\n",
    "\n",
    "This may take a while."
   ]
  },
  {
   "cell_type": "code",
   "execution_count": 10,
   "metadata": {},
   "outputs": [
    {
     "name": "stderr",
     "output_type": "stream",
     "text": [
      "WARNING:pystan:Automatic Differentiation Variational Inference (ADVI) is an EXPERIMENTAL ALGORITHM.\n",
      "WARNING:pystan:ADVI samples may be found on the filesystem in the file `/tmp/tmp341n3wzt/output.csv`\n",
      "/opt/conda/envs/jupyter/lib/python3.7/site-packages/scipy/stats/_multivariate.py:660: RuntimeWarning: covariance is not positive-semidefinite.\n",
      "  out = random_state.multivariate_normal(mean, cov, size)\n",
      "INFO:causalad.adni_experiments:Overall p-value: 0.289536\n"
     ]
    }
   ],
   "source": [
    "deconf_bpmf, resid_bpmf, pval_bpmf = get_bpmf_deconfounder(\n",
    "    data_vols_t, data_extra, latent_dim=latent_dim, random_state=seed\n",
    ")"
   ]
  },
  {
   "cell_type": "code",
   "execution_count": 11,
   "metadata": {},
   "outputs": [
    {
     "name": "stdout",
     "output_type": "stream",
     "text": [
      "/notebooks/data/outputs/adni/dim6/adni_aug_BPMF.csv\n"
     ]
    }
   ],
   "source": [
    "output_bpmf = pd.concat((outcome, data_extra, deconf_bpmf, resid_bpmf), axis=1)\n",
    "file_bpmf = base_dir / \"adni_aug_BPMF.csv\"\n",
    "output_bpmf.to_csv(file_bpmf)\n",
    "\n",
    "print(file_bpmf.resolve())\n",
    "\n",
    "pd.Series([pval_ppca, pval_bpmf], index=[\"PPCA\", \"BPMF\"], name=\"pvalue\").to_csv(\n",
    "    base_dir / \"pvalue.csv\",\n",
    "    header=True,\n",
    "    index=True)"
   ]
  },
  {
   "cell_type": "markdown",
   "metadata": {},
   "source": [
    "Continue with [Step 2: Estimate Effects](adni-estimate-effects.ipynb)."
   ]
  }
 ],
 "metadata": {
  "kernelspec": {
   "display_name": "Python 3",
   "language": "python",
   "name": "python3"
  },
  "language_info": {
   "codemirror_mode": {
    "name": "ipython",
    "version": 3
   },
   "file_extension": ".py",
   "mimetype": "text/x-python",
   "name": "python",
   "nbconvert_exporter": "python",
   "pygments_lexer": "ipython3",
   "version": "3.7.6"
  }
 },
 "nbformat": 4,
 "nbformat_minor": 4
}
