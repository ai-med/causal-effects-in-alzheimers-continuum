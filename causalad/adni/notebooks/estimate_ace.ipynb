{
 "cells": [
  {
   "cell_type": "markdown",
   "id": "4977385c",
   "metadata": {},
   "source": [
    "```\n",
    "This file is part of Estimation of Causal Effects in the Alzheimer's Continuum (Causal-AD).\n",
    "\n",
    "Causal-AD is free software: you can redistribute it and/or modify\n",
    "it under the terms of the GNU General Public License as published by\n",
    "the Free Software Foundation, either version 3 of the License, or\n",
    "(at your option) any later version.\n",
    "\n",
    "Causal-AD is distributed in the hope that it will be useful,\n",
    "but WITHOUT ANY WARRANTY; without even the implied warranty of\n",
    "MERCHANTABILITY or FITNESS FOR A PARTICULAR PURPOSE.  See the\n",
    "GNU General Public License for more details.\n",
    "\n",
    "You should have received a copy of the GNU General Public License\n",
    "along with Causal-AD. If not, see <https://www.gnu.org/licenses/>.\n",
    "```"
   ]
  },
  {
   "cell_type": "markdown",
   "id": "32159084",
   "metadata": {},
   "source": [
    "# Estimation of Average Causal Effect (ACE)"
   ]
  },
  {
   "cell_type": "markdown",
   "id": "511e2f3a",
   "metadata": {},
   "source": [
    "1. For Volumes only:\n",
    "$$\n",
    "y_i = \\frac{\\mathrm{Vol}_i}{\\mathrm{TIV}_i}\n",
    "$$\n",
    "2. Box-Cox transform:\n",
    "$$y_{i}^{(\\lambda )}={\\begin{cases}{\\dfrac {(y_{i})^{\\lambda }-1}{\\lambda }}&{\\text{if }}\\lambda \\neq 0,\\\\\\ln (y_{i})&{\\text{if }}\\lambda =0,\\end{cases}}$$\n",
    "3. Standardize:\n",
    "$$\n",
    "\\tilde{y}_i = \\frac{ y_{i}^{(\\lambda )} - \\mathrm{mean}(y_{i}^{(\\lambda)})}{\\mathrm{sd}(y_{i}^{(\\lambda )})}\n",
    "$$\n",
    "4. Regress on confounders:\n",
    "* Age-only:\n",
    "$$\n",
    "\\tilde{y}_i = \\beta_1\\text{Age}_i + \\beta_2\\text{Age}_i^2 + \\varepsilon_i\n",
    "$$\n",
    "\n",
    "* Deconfounder:\n",
    "$$\n",
    "\\tilde{y}_i = \\mathbf{W}\\mathbf{z}_i + \\beta_1\\text{Age}_i + \\beta_2\\text{Age}_i^2 + \\beta_3\\text{Education}_i + \\beta_4\\text{Gender}_i\n",
    "+ \\beta_5\\log\\left( \\text{pTAU} + 1 \\right) + \\varepsilon_i\n",
    "$$\n",
    "\n",
    "5. Beta-Regression:\n",
    "$$\n",
    "    \\frac{\\text{ADAS}}{85} = \\mathrm{logit}(\\beta_0 + (\\tilde{y}_i - \\hat{y}_i^\\text{reg})\\beta + \\varepsilon_i)\n",
    "$$"
   ]
  },
  {
   "cell_type": "code",
   "execution_count": null,
   "id": "4899103a",
   "metadata": {},
   "outputs": [],
   "source": [
    "from itertools import product\n",
    "from pathlib import Path\n",
    "import pickle\n",
    "from typing import List\n",
    "\n",
    "from joblib import Parallel, delayed\n",
    "from matplotlib.cm import get_cmap\n",
    "import pandas as pd\n",
    "\n",
    "from causalad.adni.ace import (\n",
    "    AceEstimator,\n",
    "    BetaRegPredictor,\n",
    "    FeatureTransformer,\n",
    "    Plotter,\n",
    "    composite_ace,\n",
    "    plot_composite_ace,\n",
    "    barplot_composite_ace,\n",
    ")"
   ]
  },
  {
   "cell_type": "code",
   "execution_count": null,
   "id": "cc1757ee",
   "metadata": {
    "tags": [
     "parameters"
    ]
   },
   "outputs": [],
   "source": [
    "# Parameters\n",
    "data_path: str = \"outputs/adni/adni_data_t.h5\"\n",
    "subst_conf_dir: str = \"outputs/adni/subst_conf\"\n",
    "models_dir: str = \"outputs/adni/models\"\n",
    "n_jobs: int = 5\n",
    "\n",
    "feats: List[str] = [\n",
    "    \"entorhinal_thickness\",\n",
    "    \"Hippocampus\",\n",
    "    # Parietal lobe\n",
    "    'postcentral_thickness+inferiorparietal_thickness+supramarginal_thickness+precuneus_thickness+superiorparietal_thickness',\n",
    "    \"isthmuscingulate_thickness\",\n",
    "    # Temporal lobe\n",
    "    'bankssts_thickness+superiortemporal_thickness+fusiform_thickness+inferiortemporal_thickness+middletemporal_thickness',\n",
    "    \"Amygdala\",\n",
    "    \"temporalpole_thickness\",\n",
    "    \"CC\",\n",
    "    \"parahippocampal_thickness\",\n",
    "    \"Accumbens-area\",\n",
    "    # Frontal lobe I\n",
    "    'paracentral_thickness+precentral_thickness',\n",
    "]"
   ]
  },
  {
   "cell_type": "code",
   "execution_count": null,
   "id": "758fb79e",
   "metadata": {},
   "outputs": [],
   "source": [
    "models_dir = Path(models_dir)\n",
    "subst_conf_dir = Path(subst_conf_dir)\n",
    "\n",
    "coef_paths = {\n",
    "    \"ppca\": models_dir / \"samples_coef_adni_ppca_subst_conf_dim6.csv\",\n",
    "    \"bpmf\": models_dir / \"samples_coef_adni_bpmf_subst_conf_dim6.csv\",\n",
    "    \"original\": models_dir / \"samples_coef_adni_original.csv\",\n",
    "    \"regressout\": models_dir / \"samples_coef_adni_age_residualized.csv\",\n",
    "    \"combat\": models_dir / \"samples_coef_adni_combat_residualized.csv\",\n",
    "}"
   ]
  },
  {
   "cell_type": "markdown",
   "id": "64eed3bd",
   "metadata": {},
   "source": [
    "## PPCA"
   ]
  },
  {
   "cell_type": "code",
   "execution_count": null,
   "id": "f24bb80d",
   "metadata": {},
   "outputs": [],
   "source": [
    "ft_ppca = FeatureTransformer(\n",
    "    data_path,\n",
    "    str(subst_conf_dir / \"adni_ppca_subst_conf_dim6.h5\")\n",
    ")"
   ]
  },
  {
   "cell_type": "code",
   "execution_count": null,
   "id": "68c10e41",
   "metadata": {},
   "outputs": [],
   "source": [
    "data_xy = pd.read_csv(\n",
    "    models_dir / \"test-idx_coef_adni_ppca_subst_conf_dim6.csv\",\n",
    "    squeeze=True,\n",
    ")\n",
    "# y = data_xy.loc[:, \"ADAS13\"]\n",
    "# data = data_xy.drop(\"ADAS13\", axis=1)\n",
    "\n",
    "train_idx = ft_ppca.features.index.difference(data_xy)\n",
    "len(train_idx), ft_ppca.features.shape[0]"
   ]
  },
  {
   "cell_type": "code",
   "execution_count": null,
   "id": "3137bf29",
   "metadata": {},
   "outputs": [],
   "source": [
    "est = AceEstimator(\n",
    "    ft_ppca,\n",
    "    coef_paths[\"ppca\"],\n",
    ")\n",
    "causal_effects_ppca = Parallel(n_jobs=n_jobs, verbose=2)(\n",
    "    delayed(est.compute_ace)(fname, train_idx) for fname in feats\n",
    ")\n",
    "causal_effects_ppca = dict(causal_effects_ppca)"
   ]
  },
  {
   "cell_type": "code",
   "execution_count": null,
   "id": "b66ced56",
   "metadata": {},
   "outputs": [],
   "source": [
    "fig = Plotter(ft_ppca.features).plot_ace(causal_effects_ppca)"
   ]
  },
  {
   "cell_type": "markdown",
   "id": "a8b7100a",
   "metadata": {
    "heading_collapsed": "true"
   },
   "source": [
    "## BPMF"
   ]
  },
  {
   "cell_type": "code",
   "execution_count": null,
   "id": "925a8308",
   "metadata": {},
   "outputs": [],
   "source": [
    "ft_bpmf = FeatureTransformer(\n",
    "    data_path,\n",
    "    str(subst_conf_dir / \"adni_bpmf_subst_conf_dim6.h5\")\n",
    ")"
   ]
  },
  {
   "cell_type": "code",
   "execution_count": null,
   "id": "4d6376de",
   "metadata": {},
   "outputs": [],
   "source": [
    "est = AceEstimator(\n",
    "    ft_bpmf,\n",
    "    coef_paths[\"bpmf\"],\n",
    ")\n",
    "causal_effects_bpmf = Parallel(n_jobs=n_jobs, verbose=2)(\n",
    "    delayed(est.compute_ace)(fname, train_idx) for fname in feats\n",
    ")\n",
    "causal_effects_bpmf = dict(causal_effects_bpmf)"
   ]
  },
  {
   "cell_type": "code",
   "execution_count": null,
   "id": "3e306769",
   "metadata": {},
   "outputs": [],
   "source": [
    "fig = Plotter(ft_bpmf.features).plot_ace(causal_effects_bpmf)"
   ]
  },
  {
   "cell_type": "markdown",
   "id": "1b561c69",
   "metadata": {
    "heading_collapsed": "true"
   },
   "source": [
    "## Age-residualized"
   ]
  },
  {
   "cell_type": "code",
   "execution_count": null,
   "id": "7837b8ea",
   "metadata": {},
   "outputs": [],
   "source": [
    "ft_age_regout = FeatureTransformer(\n",
    "    data_path,\n",
    "    str(models_dir / \"adni_age_residualized.csv\")\n",
    ")"
   ]
  },
  {
   "cell_type": "code",
   "execution_count": null,
   "id": "cebae038",
   "metadata": {},
   "outputs": [],
   "source": [
    "est = AceEstimator(\n",
    "    ft_age_regout,\n",
    "    coef_paths[\"regressout\"],\n",
    ")\n",
    "causal_effects_age_regout = Parallel(n_jobs=n_jobs, verbose=2)(\n",
    "    delayed(est.compute_ace)(fname, train_idx) for fname in feats\n",
    ")\n",
    "causal_effects_age_regout = dict(causal_effects_age_regout)"
   ]
  },
  {
   "cell_type": "code",
   "execution_count": null,
   "id": "134c6ede",
   "metadata": {},
   "outputs": [],
   "source": [
    "fig = Plotter(ft_age_regout.features).plot_ace(causal_effects_age_regout)"
   ]
  },
  {
   "cell_type": "markdown",
   "id": "2c4da0c7",
   "metadata": {
    "heading_collapsed": "true"
   },
   "source": [
    "## Original"
   ]
  },
  {
   "cell_type": "code",
   "execution_count": null,
   "id": "b803c39a",
   "metadata": {},
   "outputs": [],
   "source": [
    "ft_original = FeatureTransformer(\n",
    "    data_path,\n",
    "    residuals_path=None,\n",
    ")"
   ]
  },
  {
   "cell_type": "code",
   "execution_count": null,
   "id": "21d45137",
   "metadata": {},
   "outputs": [],
   "source": [
    "est = AceEstimator(\n",
    "    ft_age_regout,\n",
    "    coef_paths[\"original\"],\n",
    ")\n",
    "causal_effects_original = Parallel(n_jobs=n_jobs, verbose=2)(\n",
    "    delayed(est.compute_ace)(fname, train_idx) for fname in feats\n",
    ")\n",
    "causal_effects_original = dict(causal_effects_original)"
   ]
  },
  {
   "cell_type": "code",
   "execution_count": null,
   "id": "5aa024cb",
   "metadata": {},
   "outputs": [],
   "source": [
    "fig = Plotter(ft_original.features).plot_ace(causal_effects_original)"
   ]
  },
  {
   "cell_type": "markdown",
   "id": "1222503c",
   "metadata": {
    "heading_collapsed": "true"
   },
   "source": [
    "## ComBat"
   ]
  },
  {
   "cell_type": "code",
   "execution_count": null,
   "id": "8370497c",
   "metadata": {},
   "outputs": [],
   "source": [
    "ft_combat = FeatureTransformer(\n",
    "    data_path,\n",
    "    str(models_dir / \"adni_combat_residualized.csv\")\n",
    ")"
   ]
  },
  {
   "cell_type": "code",
   "execution_count": null,
   "id": "e3cf7872",
   "metadata": {},
   "outputs": [],
   "source": [
    "est = AceEstimator(\n",
    "    ft_combat,\n",
    "    coef_paths[\"combat\"],\n",
    ")\n",
    "causal_effects_combat = Parallel(n_jobs=5, verbose=2)(\n",
    "    delayed(est.compute_ace)(fname, train_idx) for fname in feats\n",
    ")\n",
    "causal_effects_combat = dict(causal_effects_combat)"
   ]
  },
  {
   "cell_type": "code",
   "execution_count": null,
   "id": "fa735499",
   "metadata": {},
   "outputs": [],
   "source": [
    "fig = Plotter(ft_combat.features).plot_ace(causal_effects_combat)"
   ]
  },
  {
   "cell_type": "markdown",
   "id": "521b59ee",
   "metadata": {},
   "source": [
    "## Comparison"
   ]
  },
  {
   "cell_type": "markdown",
   "id": "fa2677d9",
   "metadata": {},
   "source": [
    "Save results"
   ]
  },
  {
   "cell_type": "code",
   "execution_count": null,
   "id": "ede83116",
   "metadata": {},
   "outputs": [],
   "source": [
    "causal_effects_list = [\n",
    "    causal_effects_ppca, causal_effects_bpmf,\n",
    "    causal_effects_age_regout, causal_effects_original,\n",
    "    causal_effects_combat\n",
    "]\n",
    "names = [\"Proposed (PPCA)\", \"Proposed (BPMF)\", \"Regress-Out\", \"Non-Causal\", \"ComBat\"]\n",
    "\n",
    "with open(models_dir / \"causal_effects.pkl\", \"wb\") as fout:\n",
    "    pickle.dump((causal_effects_list, names), fout,\n",
    "                protocol=pickle.HIGHEST_PROTOCOL)\n",
    "\n",
    "del fout"
   ]
  },
  {
   "cell_type": "code",
   "execution_count": null,
   "id": "6df0dece",
   "metadata": {},
   "outputs": [],
   "source": [
    "cm = get_cmap(\"Set1\")\n",
    "palette = [\n",
    "    cm.colors[0],  # red\n",
    "    cm.colors[3],  # purple\n",
    "    cm.colors[4],  # orange\n",
    "    cm.colors[1],  # blue\n",
    "    cm.colors[2],  # green\n",
    "]\n",
    "\n",
    "method_order = [\"Non-Causal\", \"Regress-Out\", \"ComBat\", \"Proposed (PPCA)\", \"Proposed (BPMF)\"]\n",
    "\n",
    "styles = {m: {\"color\": palette[i]} for i, m in enumerate(method_order)}\n",
    "styles[\"Non-Causal\"].update({\"linestyle\": \"dotted\"})\n",
    "styles[\"Regress-Out\"].update({\"linestyle\": \"dashed\"})"
   ]
  },
  {
   "cell_type": "code",
   "execution_count": null,
   "id": "c8cba04f",
   "metadata": {},
   "outputs": [],
   "source": [
    "p = Plotter(ft_ppca.features, col_order=feats, wrap_cols=4, max_adas=50, legend_out=True)\n",
    "fig = p.compare_ace(causal_effects_list, names, styles)"
   ]
  },
  {
   "cell_type": "markdown",
   "id": "0259d788",
   "metadata": {},
   "source": [
    "## Composite ACE of All Selected ROIs"
   ]
  },
  {
   "cell_type": "markdown",
   "id": "e25b5fb0",
   "metadata": {},
   "source": [
    "Compute $$\\mathbb{E}[\\mathrm{ADAS}\\,|\\, do(x_{q_{25}})] - \\mathbb{E}[\\mathrm{ADAS}\\,|\\, do(x_\\text{median})]$$"
   ]
  },
  {
   "cell_type": "code",
   "execution_count": null,
   "id": "0ddb3160",
   "metadata": {},
   "outputs": [],
   "source": [
    "effect = composite_ace(\n",
    "    features=ft_ppca.features.loc[:, feats],\n",
    "    transform_func=ft_ppca.transform_data,\n",
    "    predictors={name: BetaRegPredictor(path) for name, path in coef_paths.items()},\n",
    ")\n",
    "\n",
    "effect_diff = effect.xs(\"mean\", level=1, axis=1).iloc[:, ::-1].diff(axis=1).iloc[:, 1:]"
   ]
  },
  {
   "cell_type": "code",
   "execution_count": null,
   "id": "310bba94",
   "metadata": {},
   "outputs": [],
   "source": [
    "effect.round(1)"
   ]
  },
  {
   "cell_type": "code",
   "execution_count": null,
   "id": "1503060e",
   "metadata": {},
   "outputs": [],
   "source": [
    "effect_diff.round(1)"
   ]
  },
  {
   "cell_type": "code",
   "execution_count": null,
   "id": "61ee34c0",
   "metadata": {},
   "outputs": [],
   "source": [
    "for (na, a), (nb, b) in product(effect_diff.iloc[:2, 0].iteritems(), effect_diff.iloc[2:, 0].iteritems()):\n",
    "    print(na, \"-\", nb, \"=>\", round(a - b, 1))"
   ]
  },
  {
   "cell_type": "code",
   "execution_count": null,
   "id": "649d4c50",
   "metadata": {},
   "outputs": [],
   "source": [
    "order = [\"original\", \"regressout\", \"combat\", \"ppca\", \"bpmf\"]\n",
    "names = [\"Non-Causal\", \"Regress-Out\", \"ComBat\", \"Proposed\\n(PPCA)\", \"Proposed\\n(BPMF)\"]\n",
    "df = effect.loc[order].rename(index=dict(zip(order, names)))\n",
    "\n",
    "ax = plot_composite_ace(\n",
    "    df.xs(\"mean\", level=1, axis=1),\n",
    "    palette,\n",
    ")\n",
    "ax = barplot_composite_ace(df, figsize=(6, 4.25))\n",
    "\n",
    "del df, order, names"
   ]
  }
 ],
 "metadata": {
  "kernelspec": {
   "display_name": "Python 3 (ipykernel)",
   "language": "python",
   "name": "python3"
  },
  "language_info": {
   "codemirror_mode": {
    "name": "ipython",
    "version": 3
   },
   "file_extension": ".py",
   "mimetype": "text/x-python",
   "name": "python",
   "nbconvert_exporter": "python",
   "pygments_lexer": "ipython3",
   "version": "3.7.10"
  },
  "vscode": {
   "interpreter": {
    "hash": "dbdbd12985e22e9563e448a27cf829763c95eae1ed489351c41bf6f77845ad4c"
   }
  }
 },
 "nbformat": 4,
 "nbformat_minor": 5
}
