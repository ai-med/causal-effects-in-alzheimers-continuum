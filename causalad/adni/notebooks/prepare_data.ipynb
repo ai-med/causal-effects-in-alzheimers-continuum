{
 "cells": [
  {
   "cell_type": "markdown",
   "id": "b803c0b1",
   "metadata": {},
   "source": [
    "```\n",
    "This file is part of Estimation of Causal Effects in the Alzheimer's Continuum (Causal-AD).\n",
    "\n",
    "Causal-AD is free software: you can redistribute it and/or modify\n",
    "it under the terms of the GNU General Public License as published by\n",
    "the Free Software Foundation, either version 3 of the License, or\n",
    "(at your option) any later version.\n",
    "\n",
    "Causal-AD is distributed in the hope that it will be useful,\n",
    "but WITHOUT ANY WARRANTY; without even the implied warranty of\n",
    "MERCHANTABILITY or FITNESS FOR A PARTICULAR PURPOSE.  See the\n",
    "GNU General Public License for more details.\n",
    "\n",
    "You should have received a copy of the GNU General Public License\n",
    "along with Causal-AD. If not, see <https://www.gnu.org/licenses/>.\n",
    "```"
   ]
  },
  {
   "cell_type": "markdown",
   "id": "969cbb3f",
   "metadata": {},
   "source": [
    "# Prepare ADNI Data"
   ]
  },
  {
   "cell_type": "code",
   "execution_count": null,
   "id": "da9cddd7",
   "metadata": {},
   "outputs": [],
   "source": [
    "import logging\n",
    "from pathlib import Path\n",
    "\n",
    "import numpy as np\n",
    "import matplotlib.pyplot as plt\n",
    "import pandas as pd\n",
    "import seaborn as sns\n",
    "from scipy import stats\n",
    "\n",
    "from causalad.adni.data import AdniDataLoader, apply_transform\n",
    "from causalad.ukb.data import combine_by_group, get_lobes_map\n",
    "\n",
    "sns.set(style=\"whitegrid\")\n",
    "\n",
    "logging.basicConfig(level=logging.INFO)"
   ]
  },
  {
   "cell_type": "code",
   "execution_count": null,
   "id": "0239dac1",
   "metadata": {
    "tags": [
     "parameters"
    ]
   },
   "outputs": [],
   "source": [
    "# Parameters\n",
    "adni_csv_file: str = \"adni-data.csv\"\n",
    "output_dir: str = \".\""
   ]
  },
  {
   "cell_type": "code",
   "execution_count": null,
   "id": "de583eda",
   "metadata": {},
   "outputs": [],
   "source": [
    "loader = AdniDataLoader(adni_csv_file, drop_outliers=False)\n",
    "\n",
    "features, outcome = loader.load_freesurfer()\n",
    "features[\"volumes\"].drop('Total_Ventricular_CSF', axis=1, inplace=True)\n",
    "\n",
    "outcome.shape"
   ]
  },
  {
   "cell_type": "code",
   "execution_count": null,
   "id": "f8223a31",
   "metadata": {},
   "outputs": [],
   "source": [
    "\n",
    "features, outcome = loader.load_freesurfer()\n",
    "features[\"volumes\"].drop('Total_Ventricular_CSF', axis=1, inplace=True)\n",
    "\n",
    "outcome.shape"
   ]
  },
  {
   "cell_type": "markdown",
   "id": "1775520b",
   "metadata": {},
   "source": [
    "## Outcome"
   ]
  },
  {
   "cell_type": "code",
   "execution_count": null,
   "id": "4dedaa87",
   "metadata": {},
   "outputs": [],
   "source": [
    "_, ax = plt.subplots(figsize=(10, 6))\n",
    "outcome.plot.hist(bins=np.arange(55), density=True, ax=ax)\n",
    "\n",
    "del ax"
   ]
  },
  {
   "cell_type": "markdown",
   "id": "2a23a686",
   "metadata": {},
   "source": [
    "## Clinical"
   ]
  },
  {
   "cell_type": "code",
   "execution_count": null,
   "id": "472a323d",
   "metadata": {},
   "outputs": [],
   "source": [
    "features[\"clinical\"].head()"
   ]
  },
  {
   "cell_type": "code",
   "execution_count": null,
   "id": "f942c99c",
   "metadata": {},
   "outputs": [],
   "source": [
    "ax = features[\"clinical\"].PTGENDER.value_counts(normalize=True).plot.bar(title=\"PTGENDER\")\n",
    "\n",
    "del ax"
   ]
  },
  {
   "cell_type": "code",
   "execution_count": null,
   "id": "44fe0f7d",
   "metadata": {},
   "outputs": [],
   "source": [
    "_, axs = plt.subplots(1, 2, figsize=(9, 4))\n",
    "\n",
    "axs[0].hist(features[\"clinical\"].AGE.values, bins=\"auto\", density=True)\n",
    "axs[0].set_title(\"AGE\")\n",
    "\n",
    "stats.probplot(features[\"clinical\"].AGE.values, plot=axs[1])\n",
    "\n",
    "del axs"
   ]
  },
  {
   "cell_type": "code",
   "execution_count": null,
   "id": "1b5d6073",
   "metadata": {},
   "outputs": [],
   "source": [
    "ax = features[\"clinical\"].ATN_status.value_counts(normalize=True).plot.bar(title=\"ATN_status\")\n",
    "\n",
    "del ax"
   ]
  },
  {
   "cell_type": "code",
   "execution_count": null,
   "id": "175995f2",
   "metadata": {},
   "outputs": [],
   "source": [
    "_, axs = plt.subplots(1, 2, figsize=(9, 4))\n",
    "\n",
    "features[\"clinical\"].PTEDUCAT.value_counts(normalize=True).sort_index().plot.bar(\n",
    "    title=\"PTEDUCAT\", ax=axs[0]\n",
    ")\n",
    "features[\"clinical\"].loc[:, \"EDU-ATTAIN\"].value_counts(normalize=True).plot.bar(\n",
    "    title=\"EDU-ATTAIN\", ax=axs[1]\n",
    ")\n",
    "\n",
    "del axs"
   ]
  },
  {
   "cell_type": "code",
   "execution_count": null,
   "id": "cef386fe",
   "metadata": {},
   "outputs": [],
   "source": [
    "_, axs = plt.subplots(3, 3, figsize=(14, 12), gridspec_kw={\"hspace\": 0.3})\n",
    "\n",
    "for i, (name, col) in enumerate(features[\"clinical\"].loc[:, [\"ABETA\", \"TAU\", \"PTAU\"]].iteritems()):\n",
    "    axs[0, i].hist(col.values, bins=\"auto\", density=True)\n",
    "    axs[0, i].set_title(name)\n",
    "\n",
    "    stats.probplot(col.values, plot=axs[1, i])\n",
    "\n",
    "    stats.probplot(np.log1p(col.values), plot=axs[2, i])\n",
    "\n",
    "del i, axs, name, col"
   ]
  },
  {
   "cell_type": "markdown",
   "id": "aa233289",
   "metadata": {},
   "source": [
    "## Volume"
   ]
  },
  {
   "cell_type": "code",
   "execution_count": null,
   "id": "d40a80ac",
   "metadata": {},
   "outputs": [],
   "source": [
    "cor_mat = features[\"volumes\"].corr(method=\"spearman\")\n",
    "cor_mat.values[np.diag_indices_from(cor_mat)] = 0.0\n",
    "sns.clustermap(\n",
    "    cor_mat, method=\"ward\", metric=\"euclidean\", annot=True, figsize=(12, 12), cmap=\"RdBu_r\",\n",
    ")\n",
    "\n",
    "del cor_mat"
   ]
  },
  {
   "cell_type": "markdown",
   "id": "95024497",
   "metadata": {},
   "source": [
    "## Thickness"
   ]
  },
  {
   "cell_type": "markdown",
   "id": "acae1d58",
   "metadata": {},
   "source": [
    "References:\n",
    "- https://radiopaedia.org/articles/cingulate-gyrus\n",
    "- http://braininfo.rprc.washington.edu/centraldirectory.aspx?ID=159"
   ]
  },
  {
   "cell_type": "code",
   "execution_count": null,
   "id": "413ccb27",
   "metadata": {},
   "outputs": [],
   "source": [
    "lobes_map = get_lobes_map(features[\"thickness\"])\n",
    "\n",
    "lobes_map.loc[\"bankssts_thickness\"] = \"Temporal\""
   ]
  },
  {
   "cell_type": "code",
   "execution_count": null,
   "id": "2e990228",
   "metadata": {},
   "outputs": [],
   "source": [
    "cor_mat = features[\"thickness\"].corr(method=\"spearman\")\n",
    "cor_mat.values[np.diag_indices_from(cor_mat)] = 0.0\n",
    "sns.clustermap(cor_mat, method=\"ward\", metric=\"euclidean\",\n",
    "               row_cluster=False,\n",
    "#                col_colors=lobes_map.loc[:, \"color\"],\n",
    "               square=True, annot=True, figsize=(19, 19), cmap=\"RdBu_r\")\n",
    "\n",
    "del cor_mat"
   ]
  },
  {
   "cell_type": "markdown",
   "id": "14509d7f",
   "metadata": {},
   "source": [
    "## Prune redundant measurements"
   ]
  },
  {
   "cell_type": "code",
   "execution_count": null,
   "id": "5efcf557",
   "metadata": {},
   "outputs": [],
   "source": [
    "thicks_pruned = combine_by_group(features[\"thickness\"], lobes_map)"
   ]
  },
  {
   "cell_type": "code",
   "execution_count": null,
   "id": "e66726c7",
   "metadata": {},
   "outputs": [],
   "source": [
    "cor_mat = thicks_pruned.corr(method=\"spearman\")\n",
    "cor_mat.values[np.diag_indices_from(cor_mat)] = 0.0\n",
    "sns.clustermap(cor_mat, method=\"ward\", metric=\"euclidean\",\n",
    "               row_cluster=False,\n",
    "#                col_colors=lobes_map.loc[:, \"color\"],\n",
    "               square=True, annot=True, figsize=(19, 19), cmap=\"RdBu_r\")\n",
    "\n",
    "del cor_mat"
   ]
  },
  {
   "cell_type": "code",
   "execution_count": null,
   "id": "42ffb171",
   "metadata": {},
   "outputs": [],
   "source": [
    "features_t = features.copy()\n",
    "features_t[\"thickness\"] = thicks_pruned"
   ]
  },
  {
   "cell_type": "markdown",
   "id": "cf205e0b",
   "metadata": {},
   "source": [
    "## Transform Data\n",
    "\n",
    "Such that it is normally distributed."
   ]
  },
  {
   "cell_type": "code",
   "execution_count": null,
   "id": "ea7ce9cc",
   "metadata": {},
   "outputs": [],
   "source": [
    "adni_data_t, adni_transforms = apply_transform(features_t)"
   ]
  },
  {
   "cell_type": "code",
   "execution_count": null,
   "id": "a4dd7fce",
   "metadata": {},
   "outputs": [],
   "source": [
    "def plot_normality_check(data_dict):\n",
    "    for name, data in data_dict.items():\n",
    "        print(\"===>\", name)\n",
    "        data = data.select_dtypes(include=[float])\n",
    "        n_features = data.shape[1]\n",
    "        n_cols = 5\n",
    "        n_rows = int(np.ceil(n_features / n_cols))\n",
    "        _, axs = plt.subplots(\n",
    "            n_rows, n_cols, figsize=(n_cols * 3,  n_rows * 3),\n",
    "            sharex=True,# sharey=True\n",
    "        )\n",
    "        for (a, b), ax in zip(data.iteritems(), axs.flat):\n",
    "            stats.probplot(b, plot=ax)\n",
    "            ax.set_title(a)"
   ]
  },
  {
   "cell_type": "code",
   "execution_count": null,
   "id": "4f03ed06",
   "metadata": {},
   "outputs": [],
   "source": [
    "plot_normality_check(adni_data_t)"
   ]
  },
  {
   "cell_type": "markdown",
   "id": "0ba71ec2",
   "metadata": {},
   "source": [
    "## Write data"
   ]
  },
  {
   "cell_type": "code",
   "execution_count": null,
   "id": "4c8cdceb",
   "metadata": {},
   "outputs": [],
   "source": [
    "def write_data(data, transforms, outcome, filename):\n",
    "    with pd.HDFStore(filename, complib=\"lzo\") as store:\n",
    "\n",
    "        store.put(\"volumes\", data[\"volumes\"])\n",
    "        store.put(\"thickness\", data[\"thickness\"])\n",
    "        store.put(\"tiv\", data[\"tiv\"])\n",
    "        store.put(\"clinical\", data[\"clinical\"], format=\"table\")\n",
    "        store.put(\"transforms\", transforms)\n",
    "        store.put(\"outcome\", outcome.to_frame())"
   ]
  },
  {
   "cell_type": "code",
   "execution_count": null,
   "id": "59b64452",
   "metadata": {},
   "outputs": [],
   "source": [
    "write_data(\n",
    "    adni_data_t,\n",
    "    adni_transforms,\n",
    "    outcome,\n",
    "    Path(output_dir) / \"adni_data_t.h5\",\n",
    ")"
   ]
  }
 ],
 "metadata": {
  "kernelspec": {
   "display_name": "Python 3.7.10 ('dagster')",
   "language": "python",
   "name": "python3"
  },
  "language_info": {
   "codemirror_mode": {
    "name": "ipython",
    "version": 3
   },
   "file_extension": ".py",
   "mimetype": "text/x-python",
   "name": "python",
   "nbconvert_exporter": "python",
   "pygments_lexer": "ipython3",
   "version": "3.7.10"
  },
  "vscode": {
   "interpreter": {
    "hash": "dbdbd12985e22e9563e448a27cf829763c95eae1ed489351c41bf6f77845ad4c"
   }
  }
 },
 "nbformat": 4,
 "nbformat_minor": 5
}
