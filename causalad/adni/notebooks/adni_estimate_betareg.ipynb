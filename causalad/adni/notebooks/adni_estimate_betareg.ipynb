{
 "cells": [
  {
   "cell_type": "markdown",
   "metadata": {},
   "source": [
    "```\n",
    "This file is part of Estimation of Causal Effects in the Alzheimer's Continuum (Causal-AD).\n",
    "\n",
    "Causal-AD is free software: you can redistribute it and/or modify\n",
    "it under the terms of the GNU General Public License as published by\n",
    "the Free Software Foundation, either version 3 of the License, or\n",
    "(at your option) any later version.\n",
    "\n",
    "Causal-AD is distributed in the hope that it will be useful,\n",
    "but WITHOUT ANY WARRANTY; without even the implied warranty of\n",
    "MERCHANTABILITY or FITNESS FOR A PARTICULAR PURPOSE.  See the\n",
    "GNU General Public License for more details.\n",
    "\n",
    "You should have received a copy of the GNU General Public License\n",
    "along with Causal-AD. If not, see <https://www.gnu.org/licenses/>.\n",
    "```"
   ]
  },
  {
   "cell_type": "markdown",
   "metadata": {},
   "source": [
    "# Fit Beta Regression Models\n",
    "\n",
    "ADAS-Cog-13 has a maximum of 85.\n",
    "\n",
    "See [Supplement](https://www.ncbi.nlm.nih.gov/pmc/articles/PMC3732822/bin/NIHMS420697-supplement-Supplementary_Table_1.docx) of https://www.ncbi.nlm.nih.gov/pmc/articles/PMC3732822/"
   ]
  },
  {
   "cell_type": "markdown",
   "metadata": {},
   "source": [
    "## Parameters"
   ]
  },
  {
   "cell_type": "code",
   "execution_count": null,
   "metadata": {
    "tags": [
     "parameters"
    ],
    "vscode": {
     "languageId": "r"
    }
   },
   "outputs": [],
   "source": [
    "# define and set the parameters for papermill\n",
    "input_csv <- \"r_data.csv\"\n",
    "coef_output_file <- \"coef.csv\"\n",
    "rng_seed <- 2501"
   ]
  },
  {
   "cell_type": "code",
   "execution_count": null,
   "metadata": {
    "vscode": {
     "languageId": "r"
    }
   },
   "outputs": [],
   "source": [
    "if (file.exists(coef_output_file)) error(paste(\"file\", coef_output_file, \"already exists.\"))"
   ]
  },
  {
   "cell_type": "markdown",
   "metadata": {},
   "source": [
    "## Helper Functions"
   ]
  },
  {
   "cell_type": "code",
   "execution_count": null,
   "metadata": {
    "vscode": {
     "languageId": "r"
    }
   },
   "outputs": [],
   "source": [
    "suppressMessages(library(bayesplot))\n",
    "suppressMessages(library(rstanarm))\n",
    "library(dplyr)\n",
    "library(ggplot2)\n",
    "\n",
    "options(mc.cores = 2)"
   ]
  },
  {
   "cell_type": "code",
   "execution_count": null,
   "metadata": {
    "vscode": {
     "languageId": "r"
    }
   },
   "outputs": [],
   "source": [
    "load_data <- function(filename) {\n",
    "    data <- read.csv(filename, row.names=1)\n",
    "\n",
    "    outcome <- data[, \"ADAS13\", drop=FALSE]\n",
    "\n",
    "    # Convert ADAS13 to proportions.\n",
    "    max.ADAS13 <- 85\n",
    "    if(any(outcome$ADAS13 >= max.ADAS13)) error(\"ADAS13 score too big\")\n",
    "    if(any(outcome$ADAS13 <= 0)) error(\"ADAS13 score too small\")\n",
    "    outcome$ADAS13 <- outcome$ADAS13 / 85\n",
    "\n",
    "    cnames <- colnames(data)\n",
    "    if (length(unique(cnames)) != length(cnames)) { error(\"column names are not unique\") }\n",
    "    last.col <- which(cnames == \"ADAS13\")\n",
    "    if (last.col < 2) { error(\"features must come before ADAS13 column\") }\n",
    "    resid.cols <- seq(1, last.col - 1)\n",
    "\n",
    "    resid.data <- cbind(data[, resid.cols], outcome)\n",
    "\n",
    "    return(resid.data)\n",
    "}"
   ]
  },
  {
   "cell_type": "code",
   "execution_count": null,
   "metadata": {
    "vscode": {
     "languageId": "r"
    }
   },
   "outputs": [],
   "source": [
    "fit_betareg <- function(data) {\n",
    "    mm <- terms(as.formula(ADAS13 ~ .), data=data)\n",
    "    frm <- paste(\"ADAS13 ~\", paste(attr(mm, \"term.labels\"), collapse = \"+\"))\n",
    "    cat(frm)\n",
    "    f <- as.formula(frm)\n",
    "    f <- stan_betareg(\n",
    "        f,\n",
    "        data = data,\n",
    "        link = \"logit\",\n",
    "        prior = normal(location = 0, scale = 2),\n",
    "        prior_intercept = normal(location = 0, scale = 10),\n",
    "        prior_phi = cauchy(location = 0, scale = 5),\n",
    "        algorithm = \"sampling\",\n",
    "        iter = 5000,\n",
    "        seed = rng_seed,\n",
    "        chains = 4,\n",
    "        na.action=na.fail,\n",
    "    )\n",
    "    return(f)\n",
    "}\n",
    "\n",
    "train_test_split <- function(indices) {\n",
    "    n_samples <- length(indices)\n",
    "    idx <- sample(1:n_samples)\n",
    "    num_test <- as.integer(0.1 * n_samples)\n",
    "    test_idx <- indices[idx[1:num_test]]\n",
    "    train_idx <- indices[idx[(num_test + 1):n_samples]]\n",
    "    return(list(train.idx=train_idx, test.idx=test_idx))\n",
    "}"
   ]
  },
  {
   "cell_type": "markdown",
   "metadata": {},
   "source": [
    "## Fit Model"
   ]
  },
  {
   "cell_type": "code",
   "execution_count": null,
   "metadata": {
    "vscode": {
     "languageId": "r"
    }
   },
   "outputs": [],
   "source": [
    "resid.data <- load_data(input_csv)\n",
    "\n",
    "dim(resid.data)"
   ]
  },
  {
   "cell_type": "markdown",
   "metadata": {},
   "source": [
    "Split into train and test."
   ]
  },
  {
   "cell_type": "code",
   "execution_count": null,
   "metadata": {
    "vscode": {
     "languageId": "r"
    }
   },
   "outputs": [],
   "source": [
    "set.seed(rng_seed)\n",
    "splits <- train_test_split(rownames(resid.data))"
   ]
  },
  {
   "cell_type": "code",
   "execution_count": null,
   "metadata": {
    "scrolled": true,
    "vscode": {
     "languageId": "r"
    }
   },
   "outputs": [],
   "source": [
    "fit <- fit_betareg(resid.data[splits$train.idx,])"
   ]
  },
  {
   "cell_type": "markdown",
   "metadata": {},
   "source": [
    "## PPC"
   ]
  },
  {
   "cell_type": "code",
   "execution_count": null,
   "metadata": {
    "vscode": {
     "languageId": "r"
    }
   },
   "outputs": [],
   "source": [
    "ppc_stats_with_pval <- function(y, yrep, stat) {\n",
    "    fn <- match.fun(stat)\n",
    "    pb <- mean(apply(yrep, 1, fn) >= fn(y))\n",
    "    pb <- round(pb, 3)\n",
    "    p <- ppc_stat(\n",
    "        y,\n",
    "        yrep,\n",
    "        stat=stat\n",
    "    ) +\n",
    "#     ggtitle(as.expression(substitute(\n",
    "#         paste(italic(T), \"=\", stat)\n",
    "#     ))) +\n",
    "    labs(subtitle = as.expression(substitute(\n",
    "        paste(italic(P), \"(\",\n",
    "              italic(T), \"(\", italic(\"y\")[\"rep\"], \")≥\",\n",
    "              italic(T), \"(\", italic(\"y\"), \"))\",\n",
    "              \" = \", pb))\n",
    "    ))\n",
    "    return(p)\n",
    "}\n",
    "\n",
    "ppc_grid <- function(data.true, data.rep) {\n",
    "    p.1 <- ppc_stats_with_pval(\n",
    "        data.true,\n",
    "        data.rep,\n",
    "        stat=\"mean\"\n",
    "    )\n",
    "\n",
    "    p.2 <- ppc_stats_with_pval(\n",
    "        data.true,\n",
    "        data.rep,\n",
    "        stat=\"min\"\n",
    "    )\n",
    "\n",
    "    p.3 <- ppc_stats_with_pval(\n",
    "        data.true,\n",
    "        data.rep,\n",
    "        stat=\"max\"\n",
    "    )\n",
    "\n",
    "    bayesplot_grid(\n",
    "       p.1, p.2, p.3, legends=TRUE\n",
    "    )\n",
    "}"
   ]
  },
  {
   "cell_type": "code",
   "execution_count": null,
   "metadata": {
    "vscode": {
     "languageId": "r"
    }
   },
   "outputs": [],
   "source": [
    "ppc_grid(resid.data[splits$train, \"ADAS13\"], posterior_predict(fit))"
   ]
  },
  {
   "cell_type": "code",
   "execution_count": null,
   "metadata": {
    "papermill": {
     "duration": 93.066898,
     "end_time": "2022-06-28T14:13:44.273977",
     "exception": false,
     "start_time": "2022-06-28T14:12:11.207079",
     "status": "completed"
    },
    "tags": [],
    "vscode": {
     "languageId": "r"
    }
   },
   "outputs": [],
   "source": [
    "adas.rep <- posterior_predict(fit, newdata=resid.data[splits$test,])\n",
    "\n",
    "ppc_grid(resid.data[splits$test, \"ADAS13\"], adas.rep)\n",
    "\n",
    "ppc_dens_overlay(resid.data[splits$test, \"ADAS13\"], adas.rep)"
   ]
  },
  {
   "cell_type": "markdown",
   "metadata": {},
   "source": [
    "## Write coefficients"
   ]
  },
  {
   "cell_type": "code",
   "execution_count": null,
   "metadata": {
    "vscode": {
     "languageId": "r"
    }
   },
   "outputs": [],
   "source": [
    "write.csv(fit$stan_summary, file=coef_output_file)"
   ]
  },
  {
   "cell_type": "code",
   "execution_count": null,
   "metadata": {
    "papermill": {
     "duration": 0.129697,
     "end_time": "2022-03-02T16:47:45.747923",
     "exception": false,
     "start_time": "2022-03-02T16:47:45.618226",
     "status": "completed"
    },
    "tags": [],
    "vscode": {
     "languageId": "r"
    }
   },
   "outputs": [],
   "source": [
    "write.csv(\n",
    "    as.matrix(fit$stanfit),\n",
    "    paste(c(dirname(coef_output_file), paste0(\"samples_\", basename(coef_output_file))), collapse=\"/\"),\n",
    "    row.names=FALSE,\n",
    ")"
   ]
  },
  {
   "cell_type": "code",
   "execution_count": null,
   "metadata": {
    "vscode": {
     "languageId": "r"
    }
   },
   "outputs": [],
   "source": [
    "write.csv(\n",
    "    data.frame(test.idx=splits$test.idx),\n",
    "    paste(c(dirname(coef_output_file), paste0(\"test-idx_\", basename(coef_output_file))), collapse=\"/\"),\n",
    "    row.names=FALSE,\n",
    ")"
   ]
  },
  {
   "cell_type": "code",
   "execution_count": null,
   "metadata": {
    "vscode": {
     "languageId": "r"
    }
   },
   "outputs": [],
   "source": []
  }
 ],
 "metadata": {
  "kernelspec": {
   "display_name": "R",
   "language": "R",
   "name": "ir"
  },
  "language_info": {
   "codemirror_mode": "r",
   "file_extension": ".r",
   "mimetype": "text/x-r-source",
   "name": "R",
   "pygments_lexer": "r",
   "version": "3.6.2"
  }
 },
 "nbformat": 4,
 "nbformat_minor": 4
}
