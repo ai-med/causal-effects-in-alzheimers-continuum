{
 "cells": [
  {
   "cell_type": "markdown",
   "metadata": {},
   "source": [
    "```\n",
    "This file is part of Estimation of Causal Effects in the Alzheimer's Continuum (Causal-AD).\n",
    "\n",
    "Causal-AD is free software: you can redistribute it and/or modify\n",
    "it under the terms of the GNU General Public License as published by\n",
    "the Free Software Foundation, either version 3 of the License, or\n",
    "(at your option) any later version.\n",
    "\n",
    "Causal-AD is distributed in the hope that it will be useful,\n",
    "but WITHOUT ANY WARRANTY; without even the implied warranty of\n",
    "MERCHANTABILITY or FITNESS FOR A PARTICULAR PURPOSE.  See the\n",
    "GNU General Public License for more details.\n",
    "\n",
    "You should have received a copy of the GNU General Public License\n",
    "along with Causal-AD. If not, see <https://www.gnu.org/licenses/>.\n",
    "```"
   ]
  },
  {
   "cell_type": "markdown",
   "metadata": {},
   "source": [
    "# Generate Synthetic Outcome with Confounding"
   ]
  },
  {
   "cell_type": "code",
   "execution_count": null,
   "metadata": {
    "tags": [
     "parameters"
    ]
   },
   "outputs": [],
   "source": [
    "# define the parameters\n",
    "\n",
    "data_path = \"ukb_data_t.h5\"\n",
    "sparsity: float = 0.8\n",
    "prob_event: float = 0.5\n",
    "var_x: float = 0.4\n",
    "var_z: float = 0.4\n",
    "random_state: int = 1802080521\n",
    "output_file: str = \"data_generated.h5\""
   ]
  },
  {
   "cell_type": "code",
   "execution_count": null,
   "metadata": {},
   "outputs": [],
   "source": [
    "import matplotlib.pyplot as plt\n",
    "import pandas as pd\n",
    "import seaborn as sns\n",
    "\n",
    "from causalad.ukb.generate import ConfoundingGenerator\n",
    "from causalad.ukb import io\n",
    "\n",
    "sns.set(style=\"ticks\")\n",
    "\n",
    "%matplotlib inline"
   ]
  },
  {
   "cell_type": "markdown",
   "metadata": {},
   "source": [
    "## Generate Outcome"
   ]
  },
  {
   "cell_type": "code",
   "execution_count": null,
   "metadata": {},
   "outputs": [],
   "source": [
    "data = io.load_patient_data(data_path)"
   ]
  },
  {
   "cell_type": "code",
   "execution_count": null,
   "metadata": {},
   "outputs": [],
   "source": [
    "gen = ConfoundingGenerator(\n",
    "    data,\n",
    "    sparsity=sparsity,\n",
    "    prob_event=prob_event,\n",
    "    var_x=var_x,\n",
    "    var_z=var_z,\n",
    "    random_state=random_state,\n",
    ")"
   ]
  },
  {
   "cell_type": "code",
   "execution_count": null,
   "metadata": {},
   "outputs": [],
   "source": [
    "generated = gen.generate_outcome_with_site()"
   ]
  },
  {
   "cell_type": "markdown",
   "metadata": {},
   "source": [
    "## Descriptive Statistics"
   ]
  },
  {
   "cell_type": "markdown",
   "metadata": {},
   "source": [
    "Non-zero coefficients."
   ]
  },
  {
   "cell_type": "code",
   "execution_count": null,
   "metadata": {},
   "outputs": [],
   "source": [
    "(generated.coef != 0).sum() / generated.coef.shape[0]"
   ]
  },
  {
   "cell_type": "code",
   "execution_count": null,
   "metadata": {},
   "outputs": [],
   "source": [
    "df = pd.concat((generated.outcome, generated.confounders, data.demographics.drop(\"AGE\", axis=1)), axis=1)\n",
    "df.loc[:, \"AGE_cut\"] = pd.qcut(df.AGE, [0, 0.25, 0.5, 0.75, 1])"
   ]
  },
  {
   "cell_type": "markdown",
   "metadata": {},
   "source": [
    "Unobserved confounder clusters."
   ]
  },
  {
   "cell_type": "code",
   "execution_count": null,
   "metadata": {},
   "outputs": [],
   "source": [
    "df.unobserved_confounder.value_counts(normalize=True)"
   ]
  },
  {
   "cell_type": "markdown",
   "metadata": {},
   "source": [
    "Distribution of outcome per observed and unobserved confounder cluster."
   ]
  },
  {
   "cell_type": "code",
   "execution_count": null,
   "metadata": {},
   "outputs": [],
   "source": [
    "summary = pd.crosstab(df.unobserved_confounder, df.AGE_cut)\n",
    "summary /= generated.confounders.shape[0]\n",
    "ax = summary.plot.bar(legend=False)\n",
    "\n",
    "ax.legend(loc=\"center left\", bbox_to_anchor=(1.02, 0.5), title=str(summary.columns.names))\n",
    "ax.yaxis.grid(True)\n",
    "\n",
    "summary.round(3)"
   ]
  },
  {
   "cell_type": "markdown",
   "metadata": {},
   "source": [
    "Distribution of outcome per Sex and unobserved confounder cluster."
   ]
  },
  {
   "cell_type": "code",
   "execution_count": null,
   "metadata": {},
   "outputs": [],
   "source": [
    "def compute_summary_statistics(x):\n",
    "    xx = x.drop(\"unobserved_confounder\", axis=1)\n",
    "    perc = xx.value_counts().rename(\"percentage\") / x.shape[0]\n",
    "    return perc\n",
    "\n",
    "\n",
    "def compute_summary_statistics_per_group(data):\n",
    "    df_noage = data.drop([\"AGE\", \"AGE_cut\"], axis=1)\n",
    "\n",
    "    counts = []\n",
    "    for grp_name, grp_df in df_noage.groupby(\"unobserved_confounder\"):\n",
    "        grp_counts = compute_summary_statistics(grp_df)\n",
    "        idx = grp_counts.index.to_frame(index=False)\n",
    "        idx.insert(0, \"unobserved_confounder\", grp_name)\n",
    "        grp_counts.index = pd.MultiIndex.from_frame(idx)\n",
    "        counts.append(grp_counts)\n",
    "\n",
    "    counts = pd.concat(counts, axis=0)\n",
    "    stats = counts.reset_index().pivot_table(\n",
    "        index=\"unobserved_confounder\", columns=[\"outcome\", \"SEX\"], values=\"percentage\"\n",
    "    )\n",
    "    return stats"
   ]
  },
  {
   "cell_type": "code",
   "execution_count": null,
   "metadata": {},
   "outputs": [],
   "source": [
    "summary = compute_summary_statistics_per_group(df)\n",
    "\n",
    "_, ax = plt.subplots(figsize=(6, 4))\n",
    "ax = summary.plot.bar(ax=ax, legend=False)\n",
    "ax.legend(loc=\"center left\", bbox_to_anchor=(1.02, 0.5), title=str(summary.columns.names))\n",
    "ax.yaxis.grid(True)\n",
    "\n",
    "summary.round(3)"
   ]
  },
  {
   "cell_type": "markdown",
   "metadata": {},
   "source": [
    "Distribution of outcome per Age quartile and unobserved confounder cluster."
   ]
  },
  {
   "cell_type": "code",
   "execution_count": null,
   "metadata": {},
   "outputs": [],
   "source": [
    "summary = df.loc[:, [\"AGE_cut\", \"outcome\", \"unobserved_confounder\"]].groupby(\n",
    "    \"unobserved_confounder\"\n",
    ").apply(\n",
    "    lambda x: x.drop(\"unobserved_confounder\", axis=1).value_counts().rename(\"percentage\") / x.shape[0]\n",
    ").reset_index().pivot_table(\n",
    "    index=\"unobserved_confounder\", columns=[\"outcome\", \"AGE_cut\"], values=\"percentage\"\n",
    ")\n",
    "\n",
    "_, ax = plt.subplots(figsize=(6, 4))\n",
    "ax = summary.plot.bar(ax=ax, legend=False, width=0.85)\n",
    "ax.legend(loc=\"center left\", bbox_to_anchor=(1.02, 0.5), title=str(summary.columns.names))\n",
    "ax.yaxis.grid(True)\n",
    "\n",
    "summary.round(3)"
   ]
  },
  {
   "cell_type": "markdown",
   "metadata": {},
   "source": [
    "## Write Data"
   ]
  },
  {
   "cell_type": "code",
   "execution_count": null,
   "metadata": {},
   "outputs": [],
   "source": [
    "io.write_synthetic_data(generated, output_file)"
   ]
  }
 ],
 "metadata": {
  "kernelspec": {
   "display_name": "Python 3.8.2 64-bit",
   "language": "python",
   "name": "python3"
  },
  "language_info": {
   "codemirror_mode": {
    "name": "ipython",
    "version": 3
   },
   "file_extension": ".py",
   "mimetype": "text/x-python",
   "name": "python",
   "nbconvert_exporter": "python",
   "pygments_lexer": "ipython3",
   "version": "3.8.2"
  },
  "vscode": {
   "interpreter": {
    "hash": "31f2aee4e71d21fbe5cf8b01ff0e069b9275f58929596ceb00d14d90e3e16cd6"
   }
  }
 },
 "nbformat": 4,
 "nbformat_minor": 4
}
