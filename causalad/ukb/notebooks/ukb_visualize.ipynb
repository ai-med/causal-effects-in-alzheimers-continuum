{
 "cells": [
  {
   "cell_type": "markdown",
   "id": "6f22b30c",
   "metadata": {},
   "source": [
    "```\n",
    "This file is part of Estimation of Causal Effects in the Alzheimer's Continuum (Causal-AD).\n",
    "\n",
    "Causal-AD is free software: you can redistribute it and/or modify\n",
    "it under the terms of the GNU General Public License as published by\n",
    "the Free Software Foundation, either version 3 of the License, or\n",
    "(at your option) any later version.\n",
    "\n",
    "Causal-AD is distributed in the hope that it will be useful,\n",
    "but WITHOUT ANY WARRANTY; without even the implied warranty of\n",
    "MERCHANTABILITY or FITNESS FOR A PARTICULAR PURPOSE.  See the\n",
    "GNU General Public License for more details.\n",
    "\n",
    "You should have received a copy of the GNU General Public License\n",
    "along with Causal-AD. If not, see <https://www.gnu.org/licenses/>.\n",
    "```"
   ]
  },
  {
   "cell_type": "markdown",
   "id": "c60f0654",
   "metadata": {},
   "source": [
    "# Aggregate results on semi-synthetic data"
   ]
  },
  {
   "cell_type": "code",
   "execution_count": null,
   "id": "2bdd42ad",
   "metadata": {},
   "outputs": [],
   "source": [
    "from colorsys import rgb_to_hls\n",
    "from pathlib import Path\n",
    "\n",
    "import numpy as np\n",
    "import pandas as pd\n",
    "\n",
    "from matplotlib.cm import ScalarMappable\n",
    "from matplotlib.colors import Normalize, to_hex\n",
    "\n",
    "%matplotlib inline\n",
    "import seaborn as sns\n",
    "\n",
    "from causalad.ukb.configs import get_var_config"
   ]
  },
  {
   "cell_type": "code",
   "execution_count": null,
   "id": "e8db0722",
   "metadata": {
    "tags": [
     "parameters"
    ]
   },
   "outputs": [],
   "source": [
    "# Parameters\n",
    "subst_conf_dir: str = \"outputs/ukb/subst_conf\"\n",
    "bias_csv: str = \"outputs/ukb/experiments_summary.csv\""
   ]
  },
  {
   "cell_type": "code",
   "execution_count": null,
   "id": "7a15fc87",
   "metadata": {},
   "outputs": [],
   "source": [
    "pvalues = []\n",
    "for f in Path(subst_conf_dir).glob(\"subst_conf_*_data.h5\"):\n",
    "    meta = pd.read_hdf(f, key=\"metadata\")\n",
    "    meta.index = [f\"eval_{f.stem}\"]\n",
    "    pvalues.append(meta)\n",
    "\n",
    "del f, meta\n",
    "\n",
    "pvalues_long = pd.concat(pvalues).rename_axis(\n",
    "    index=\"name\")\n",
    "pvalues = pvalues_long.reset_index().assign(\n",
    "    method=lambda x: x[\"name\"].str.split(\"_\", expand=True).iloc[:, 3].str.slice(stop=-2)\n",
    ").pivot(\n",
    "    index=\"latent_dim\", columns=\"method\", values=\"pvalue\"\n",
    ")\n",
    "\n",
    "pvalues.round(3)"
   ]
  },
  {
   "cell_type": "code",
   "execution_count": null,
   "id": "7adbe0c6",
   "metadata": {},
   "outputs": [],
   "source": [
    "def get_order():\n",
    "    configs = get_var_config()\n",
    "    configs = sorted(configs, key=lambda x: -x.ratio_x_z[0] / x.ratio_x_z[1])\n",
    "    order = [\n",
    "        f\"x{c.ratio_x_z[0]}_z{c.ratio_x_z[1]}\" for c in configs\n",
    "    ]\n",
    "    labels = {\n",
    "        o: \"{}/{}\".format(c.ratio_x_z[1], c.ratio_x_z[0]) for o, c in zip(order, configs)\n",
    "    }\n",
    "    return order, labels"
   ]
  },
  {
   "cell_type": "code",
   "execution_count": null,
   "id": "71c691e6",
   "metadata": {},
   "outputs": [],
   "source": [
    "bias = pd.read_csv(bias_csv, index_col=0)\n",
    "\n",
    "# remove entries where PPC failed\n",
    "bias.loc[pvalues_long.index[pvalues_long.pvalue <= 0.1], :] = np.nan\n",
    "\n",
    "method_index = bias.index.to_series().str.extract(\n",
    "    r\"eval_subst_conf_([a-z]+)-(\\d)_data\"\n",
    ").rename(\n",
    "    columns={0: \"Method\", 1: \"Dim\"}\n",
    ")\n",
    "method_index.loc[:, \"Method\"] = method_index.loc[:, \"Method\"].str.upper()\n",
    "method_index.loc[:, \"Dim\"] = method_index.loc[:, \"Dim\"].astype(object)\n",
    "method_index.loc[\"eval_noconf_ukb_data_t\", \"Method\"] = \"Non-Causal\"\n",
    "method_index.loc[\"eval_obsconf_ukb_data_t\", \"Method\"] = \"Obs. Confounders\"\n",
    "method_index.loc[\"eval_oracle_ukb_data_t\", \"Method\"] = \"Oracle\"\n",
    "\n",
    "bias.index = pd.MultiIndex.from_frame(method_index)\n",
    "\n",
    "col_order, col_labels = get_order()\n",
    "\n",
    "bias = bias.loc[:, col_order].rename(columns=col_labels)\n",
    "bias.rename_axis(\"𝜈ₛ/𝜈ₓ\", axis=1, inplace=True)\n",
    "bias = bias.iloc[:, ::-1]"
   ]
  },
  {
   "cell_type": "code",
   "execution_count": null,
   "id": "83a02f1a",
   "metadata": {},
   "outputs": [],
   "source": [
    "def color_column(x: pd.Series):\n",
    "    cmap = sns.color_palette(\"flare\", as_cmap=True)\n",
    "    x_no_oracle = x.copy()\n",
    "    x_no_oracle.loc[\"Oracle\"] = np.nan\n",
    "    vmin, vmax = np.nanpercentile(x_no_oracle.values, [1, 99])\n",
    "    mapper = ScalarMappable(cmap=cmap, norm=Normalize(\n",
    "        vmin=vmin, vmax=vmax,\n",
    "    ))\n",
    "    rgba = mapper.to_rgba(x.values)\n",
    "    bg_colors = [to_hex(c) for c in rgba]\n",
    "\n",
    "    hls = np.array([rgb_to_hls(*c) for c in rgba[:, :3]])\n",
    "    fg_colors = np.where(hls[:, 1] > 0.5, \"#000000\", \"#cecece\")\n",
    "\n",
    "    style = [f\"background: {bg}; color: {fg};\" for bg, fg in zip(bg_colors, fg_colors)]\n",
    "    min_idx = int(np.flatnonzero(np.nanmin(x_no_oracle.values) == x_no_oracle))\n",
    "    style[min_idx] += \" font-style: italic; font-weight: bold;\"\n",
    "    return style"
   ]
  },
  {
   "cell_type": "code",
   "execution_count": null,
   "id": "d98d2ab7",
   "metadata": {},
   "outputs": [],
   "source": [
    "bias.style.apply(color_column, axis=0).format(\"{:.3f}\")"
   ]
  }
 ],
 "metadata": {
  "kernelspec": {
   "display_name": "Python 3.7.10 ('dagster')",
   "language": "python",
   "name": "python3"
  },
  "language_info": {
   "codemirror_mode": {
    "name": "ipython",
    "version": 3
   },
   "file_extension": ".py",
   "mimetype": "text/x-python",
   "name": "python",
   "nbconvert_exporter": "python",
   "pygments_lexer": "ipython3",
   "version": "3.7.10"
  },
  "vscode": {
   "interpreter": {
    "hash": "dbdbd12985e22e9563e448a27cf829763c95eae1ed489351c41bf6f77845ad4c"
   }
  }
 },
 "nbformat": 4,
 "nbformat_minor": 5
}
